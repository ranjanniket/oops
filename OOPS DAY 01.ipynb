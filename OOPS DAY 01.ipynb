{
 "cells": [
  {
   "cell_type": "markdown",
   "id": "b9ee4aae",
   "metadata": {},
   "source": [
    "# Object Oriented Programming : Python"
   ]
  },
  {
   "cell_type": "markdown",
   "id": "2fe1265e",
   "metadata": {},
   "source": [
    "OOPS : It is a approach to manage lots of data"
   ]
  },
  {
   "cell_type": "markdown",
   "id": "feb27386",
   "metadata": {},
   "source": [
    "AGENDA : CLASS , OBJECT, GET, SET"
   ]
  },
  {
   "cell_type": "code",
   "execution_count": 6,
   "id": "0457f25c",
   "metadata": {},
   "outputs": [
    {
     "name": "stdout",
     "output_type": "stream",
     "text": [
      "bala\n",
      "85599\n",
      "good\n",
      "--------------------\n",
      "Your Information : \n",
      "\n",
      "bala\n",
      "85599\n",
      "good\n"
     ]
    }
   ],
   "source": [
    "#Created a normal form\n",
    "name = input()\n",
    "mobile_number = input()\n",
    "remarks = input()\n",
    "print(\"--------------------\")\n",
    "print(\"Your Information : \\n\")\n",
    "print(name)\n",
    "print(mobile_number)\n",
    "print(remarks)"
   ]
  },
  {
   "cell_type": "code",
   "execution_count": 7,
   "id": "4f6ab3e7",
   "metadata": {},
   "outputs": [
    {
     "data": {
      "text/plain": [
       "'bala'"
      ]
     },
     "execution_count": 7,
     "metadata": {},
     "output_type": "execute_result"
    }
   ],
   "source": [
    "#retriving variable\n",
    "name"
   ]
  },
  {
   "cell_type": "code",
   "execution_count": 8,
   "id": "cdcf4c81",
   "metadata": {},
   "outputs": [
    {
     "data": {
      "text/plain": [
       "'85599'"
      ]
     },
     "execution_count": 8,
     "metadata": {},
     "output_type": "execute_result"
    }
   ],
   "source": [
    "mobile_number"
   ]
  },
  {
   "cell_type": "code",
   "execution_count": 9,
   "id": "57a11215",
   "metadata": {},
   "outputs": [
    {
     "data": {
      "text/plain": [
       "'good'"
      ]
     },
     "execution_count": 9,
     "metadata": {},
     "output_type": "execute_result"
    }
   ],
   "source": [
    "remarks"
   ]
  },
  {
   "cell_type": "code",
   "execution_count": 11,
   "id": "56219a64",
   "metadata": {},
   "outputs": [
    {
     "data": {
      "text/plain": [
       "str"
      ]
     },
     "execution_count": 11,
     "metadata": {},
     "output_type": "execute_result"
    }
   ],
   "source": [
    "#know the type of data\n",
    "type(mobile_number)"
   ]
  },
  {
   "cell_type": "code",
   "execution_count": 12,
   "id": "02da68a3",
   "metadata": {},
   "outputs": [],
   "source": [
    "#created a form/template/blue print\n",
    "#Soft Copy of form\n",
    "class visitorform():\n",
    "    name = None\n",
    "    phone = None\n",
    "    remarks = None"
   ]
  },
  {
   "cell_type": "code",
   "execution_count": 13,
   "id": "b7a08ef1",
   "metadata": {},
   "outputs": [
    {
     "data": {
      "text/plain": [
       "<__main__.visitorform at 0x252ad784910>"
      ]
     },
     "execution_count": 13,
     "metadata": {},
     "output_type": "execute_result"
    }
   ],
   "source": [
    "#Now, visitor come we give print out, we need to call it...!!\n",
    "visitorform() "
   ]
  },
  {
   "cell_type": "code",
   "execution_count": 14,
   "id": "f2eb49bf",
   "metadata": {},
   "outputs": [],
   "source": [
    "#Print of it : Hard Copy\n",
    "#Ask or use or create space on the RAM : NameSpace\n",
    "#bala = contains the address; bala = Object/Instant ; => Came from Instantiation\n",
    "#store object data in one variable taken space in ram : namespace\n",
    "bala = visitorform() \n",
    "#know : Where, Hard Copy of form store on the RAM"
   ]
  },
  {
   "cell_type": "code",
   "execution_count": 17,
   "id": "dc99e4fa",
   "metadata": {},
   "outputs": [
    {
     "data": {
      "text/plain": [
       "<__main__.visitorform at 0x252ad784100>"
      ]
     },
     "execution_count": 17,
     "metadata": {},
     "output_type": "execute_result"
    }
   ],
   "source": [
    "bala #bala : object / visitor"
   ]
  },
  {
   "cell_type": "code",
   "execution_count": 18,
   "id": "11fa3f8a",
   "metadata": {},
   "outputs": [],
   "source": [
    "#dir (bala) #Tell all the information about Form"
   ]
  },
  {
   "cell_type": "code",
   "execution_count": 19,
   "id": "54cbe7c1",
   "metadata": {},
   "outputs": [],
   "source": [
    "#we are retriving the information of name in v1 object\n",
    "#Going to this Object : Try to set the Value of name variable : GET\n",
    "#form is empty \n",
    "bala.name"
   ]
  },
  {
   "cell_type": "code",
   "execution_count": 20,
   "id": "d51659e4",
   "metadata": {},
   "outputs": [],
   "source": [
    "bala.phone"
   ]
  },
  {
   "cell_type": "code",
   "execution_count": 21,
   "id": "f3ba4fa2",
   "metadata": {},
   "outputs": [],
   "source": [
    "#go to this Object: Get the Value of \"name\"\n",
    "#GET\n",
    "#hard copy file : Object : V1\n",
    "#name : variable : Property\n",
    "bala.remarks"
   ]
  },
  {
   "cell_type": "code",
   "execution_count": 22,
   "id": "adaa1cef",
   "metadata": {},
   "outputs": [],
   "source": [
    "#two things we can do with form when we take print out\n",
    "# (i) -> Retrive -> GET\n",
    "# (ii) -> Fill Form -> SET {UPDATE VALUE}\n",
    "bala.name"
   ]
  },
  {
   "cell_type": "code",
   "execution_count": 23,
   "id": "e81e1fe2",
   "metadata": {},
   "outputs": [],
   "source": [
    "bala.name = \"S. Bala Sai\""
   ]
  },
  {
   "cell_type": "code",
   "execution_count": 25,
   "id": "8b445d24",
   "metadata": {},
   "outputs": [
    {
     "data": {
      "text/plain": [
       "'S. Bala Sai'"
      ]
     },
     "execution_count": 25,
     "metadata": {},
     "output_type": "execute_result"
    }
   ],
   "source": [
    "bala.name"
   ]
  },
  {
   "cell_type": "code",
   "execution_count": 26,
   "id": "873bc6f6",
   "metadata": {},
   "outputs": [
    {
     "data": {
      "text/plain": [
       "{'name': 'S. Bala Sai'}"
      ]
     },
     "execution_count": 26,
     "metadata": {},
     "output_type": "execute_result"
    }
   ],
   "source": [
    "bala.__dict__ #Show all info in object"
   ]
  },
  {
   "cell_type": "code",
   "execution_count": 27,
   "id": "f687b511",
   "metadata": {},
   "outputs": [],
   "source": [
    "bala.phone = \"8529193747\""
   ]
  },
  {
   "cell_type": "code",
   "execution_count": 28,
   "id": "feb99bfc",
   "metadata": {},
   "outputs": [],
   "source": [
    "bala.remarks = \"Good\""
   ]
  },
  {
   "cell_type": "code",
   "execution_count": 29,
   "id": "5c4f6e2c",
   "metadata": {},
   "outputs": [
    {
     "data": {
      "text/plain": [
       "{'name': 'S. Bala Sai', 'phone': '8529193747', 'remarks': 'Good'}"
      ]
     },
     "execution_count": 29,
     "metadata": {},
     "output_type": "execute_result"
    }
   ],
   "source": [
    "bala.__dict__"
   ]
  },
  {
   "cell_type": "code",
   "execution_count": 36,
   "id": "1add92d6",
   "metadata": {},
   "outputs": [],
   "source": [
    "#New visitor come to office\n",
    "ashu = visitorform()"
   ]
  },
  {
   "cell_type": "code",
   "execution_count": 37,
   "id": "014a5f71",
   "metadata": {},
   "outputs": [
    {
     "data": {
      "text/plain": [
       "<__main__.visitorform at 0x252ad87b670>"
      ]
     },
     "execution_count": 37,
     "metadata": {},
     "output_type": "execute_result"
    }
   ],
   "source": [
    "ashu"
   ]
  },
  {
   "cell_type": "code",
   "execution_count": 38,
   "id": "cc3db7d4",
   "metadata": {},
   "outputs": [],
   "source": [
    "ashu.name"
   ]
  },
  {
   "cell_type": "code",
   "execution_count": 42,
   "id": "eac80ec5",
   "metadata": {},
   "outputs": [],
   "source": [
    "ashu.name = \"ASHUTOSH PARMAR\"\n",
    "ashu.phone = \"6350522371\"\n",
    "ashu.remarks = \"V.GOOD\""
   ]
  },
  {
   "cell_type": "code",
   "execution_count": 43,
   "id": "b110b306",
   "metadata": {},
   "outputs": [
    {
     "data": {
      "text/plain": [
       "{'name': 'ASHUTOSH PARMAR', 'phone': '6350522371', 'remarks': 'V.GOOD'}"
      ]
     },
     "execution_count": 43,
     "metadata": {},
     "output_type": "execute_result"
    }
   ],
   "source": [
    "ashu.__dict__"
   ]
  },
  {
   "cell_type": "code",
   "execution_count": 44,
   "id": "2ff8ccb0",
   "metadata": {},
   "outputs": [
    {
     "data": {
      "text/plain": [
       "'V.GOOD'"
      ]
     },
     "execution_count": 44,
     "metadata": {},
     "output_type": "execute_result"
    }
   ],
   "source": [
    "#GET : only retrive the value\n",
    "ashu.remarks"
   ]
  },
  {
   "cell_type": "code",
   "execution_count": 45,
   "id": "ee24bf60",
   "metadata": {},
   "outputs": [],
   "source": [
    "ashu.remarks = \"BAD STUDENT\""
   ]
  },
  {
   "cell_type": "code",
   "execution_count": 46,
   "id": "434e3a20",
   "metadata": {},
   "outputs": [
    {
     "data": {
      "text/plain": [
       "'BAD STUDENT'"
      ]
     },
     "execution_count": 46,
     "metadata": {},
     "output_type": "execute_result"
    }
   ],
   "source": [
    "ashu.remarks"
   ]
  },
  {
   "cell_type": "code",
   "execution_count": 48,
   "id": "6f7e1dec",
   "metadata": {},
   "outputs": [
    {
     "name": "stdout",
     "output_type": "stream",
     "text": [
      "6350522371\n"
     ]
    }
   ],
   "source": [
    "print(ashu.phone)"
   ]
  },
  {
   "cell_type": "markdown",
   "id": "baeefd1d",
   "metadata": {},
   "source": [
    "Variables"
   ]
  },
  {
   "cell_type": "code",
   "execution_count": 49,
   "id": "e495d027",
   "metadata": {},
   "outputs": [],
   "source": [
    "x = 5"
   ]
  },
  {
   "cell_type": "code",
   "execution_count": 50,
   "id": "af1f72eb",
   "metadata": {},
   "outputs": [
    {
     "data": {
      "text/plain": [
       "5"
      ]
     },
     "execution_count": 50,
     "metadata": {},
     "output_type": "execute_result"
    }
   ],
   "source": [
    "x"
   ]
  },
  {
   "cell_type": "code",
   "execution_count": 51,
   "id": "e42b9a94",
   "metadata": {},
   "outputs": [
    {
     "data": {
      "text/plain": [
       "140720804669360"
      ]
     },
     "execution_count": 51,
     "metadata": {},
     "output_type": "execute_result"
    }
   ],
   "source": [
    "id(x)"
   ]
  },
  {
   "cell_type": "code",
   "execution_count": 52,
   "id": "6b2e6fb8",
   "metadata": {},
   "outputs": [
    {
     "data": {
      "text/plain": [
       "'0x7ffc1d9327b0'"
      ]
     },
     "execution_count": 52,
     "metadata": {},
     "output_type": "execute_result"
    }
   ],
   "source": [
    "#convert into HEXA\n",
    "hex ( id (x))"
   ]
  }
 ],
 "metadata": {
  "kernelspec": {
   "display_name": "Python 3",
   "language": "python",
   "name": "python3"
  },
  "language_info": {
   "codemirror_mode": {
    "name": "ipython",
    "version": 3
   },
   "file_extension": ".py",
   "mimetype": "text/x-python",
   "name": "python",
   "nbconvert_exporter": "python",
   "pygments_lexer": "ipython3",
   "version": "3.8.8"
  }
 },
 "nbformat": 4,
 "nbformat_minor": 5
}
